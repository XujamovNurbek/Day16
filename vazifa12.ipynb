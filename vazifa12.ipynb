{
 "cells": [
  {
   "cell_type": "code",
   "execution_count": 37,
   "metadata": {},
   "outputs": [],
   "source": [
    "import pandas as pd\n",
    "import numpy as np\n",
    "import seaborn as sns\n",
    "import matplotlib.pyplot as plt"
   ]
  },
  {
   "cell_type": "code",
   "execution_count": 38,
   "metadata": {},
   "outputs": [
    {
     "data": {
      "text/html": [
       "<div>\n",
       "<style scoped>\n",
       "    .dataframe tbody tr th:only-of-type {\n",
       "        vertical-align: middle;\n",
       "    }\n",
       "\n",
       "    .dataframe tbody tr th {\n",
       "        vertical-align: top;\n",
       "    }\n",
       "\n",
       "    .dataframe thead th {\n",
       "        text-align: right;\n",
       "    }\n",
       "</style>\n",
       "<table border=\"1\" class=\"dataframe\">\n",
       "  <thead>\n",
       "    <tr style=\"text-align: right;\">\n",
       "      <th></th>\n",
       "      <th>Unnamed: 0</th>\n",
       "      <th>h_a</th>\n",
       "      <th>xG</th>\n",
       "      <th>xGA</th>\n",
       "      <th>npxG</th>\n",
       "      <th>npxGA</th>\n",
       "      <th>deep</th>\n",
       "      <th>deep_allowed</th>\n",
       "      <th>scored</th>\n",
       "      <th>missed</th>\n",
       "      <th>...</th>\n",
       "      <th>AF.x</th>\n",
       "      <th>AC.x</th>\n",
       "      <th>AY.x</th>\n",
       "      <th>AR.x</th>\n",
       "      <th>B365H.x</th>\n",
       "      <th>B365D.x</th>\n",
       "      <th>B365A.x</th>\n",
       "      <th>HtrgPerc</th>\n",
       "      <th>AtrgPerc</th>\n",
       "      <th>matchDay</th>\n",
       "    </tr>\n",
       "  </thead>\n",
       "  <tbody>\n",
       "    <tr>\n",
       "      <th>0</th>\n",
       "      <td>1</td>\n",
       "      <td>h</td>\n",
       "      <td>2.234560</td>\n",
       "      <td>0.842407</td>\n",
       "      <td>2.234560</td>\n",
       "      <td>0.842407</td>\n",
       "      <td>11</td>\n",
       "      <td>5</td>\n",
       "      <td>4</td>\n",
       "      <td>1</td>\n",
       "      <td>...</td>\n",
       "      <td>9</td>\n",
       "      <td>2</td>\n",
       "      <td>2</td>\n",
       "      <td>0</td>\n",
       "      <td>1.14</td>\n",
       "      <td>10.00</td>\n",
       "      <td>19.00</td>\n",
       "      <td>0.466667</td>\n",
       "      <td>0.416667</td>\n",
       "      <td>Fri</td>\n",
       "    </tr>\n",
       "    <tr>\n",
       "      <th>1</th>\n",
       "      <td>2</td>\n",
       "      <td>a</td>\n",
       "      <td>0.842407</td>\n",
       "      <td>2.234560</td>\n",
       "      <td>0.842407</td>\n",
       "      <td>2.234560</td>\n",
       "      <td>5</td>\n",
       "      <td>11</td>\n",
       "      <td>1</td>\n",
       "      <td>4</td>\n",
       "      <td>...</td>\n",
       "      <td>9</td>\n",
       "      <td>2</td>\n",
       "      <td>2</td>\n",
       "      <td>0</td>\n",
       "      <td>1.14</td>\n",
       "      <td>10.00</td>\n",
       "      <td>19.00</td>\n",
       "      <td>0.466667</td>\n",
       "      <td>0.416667</td>\n",
       "      <td>Fri</td>\n",
       "    </tr>\n",
       "    <tr>\n",
       "      <th>2</th>\n",
       "      <td>3</td>\n",
       "      <td>a</td>\n",
       "      <td>3.183770</td>\n",
       "      <td>1.200300</td>\n",
       "      <td>2.422640</td>\n",
       "      <td>1.200300</td>\n",
       "      <td>9</td>\n",
       "      <td>1</td>\n",
       "      <td>5</td>\n",
       "      <td>0</td>\n",
       "      <td>...</td>\n",
       "      <td>13</td>\n",
       "      <td>1</td>\n",
       "      <td>2</td>\n",
       "      <td>0</td>\n",
       "      <td>12.00</td>\n",
       "      <td>6.50</td>\n",
       "      <td>1.22</td>\n",
       "      <td>0.600000</td>\n",
       "      <td>0.642857</td>\n",
       "      <td>Sat</td>\n",
       "    </tr>\n",
       "    <tr>\n",
       "      <th>3</th>\n",
       "      <td>4</td>\n",
       "      <td>h</td>\n",
       "      <td>1.200300</td>\n",
       "      <td>3.183770</td>\n",
       "      <td>1.200300</td>\n",
       "      <td>2.422640</td>\n",
       "      <td>1</td>\n",
       "      <td>9</td>\n",
       "      <td>0</td>\n",
       "      <td>5</td>\n",
       "      <td>...</td>\n",
       "      <td>13</td>\n",
       "      <td>1</td>\n",
       "      <td>2</td>\n",
       "      <td>0</td>\n",
       "      <td>12.00</td>\n",
       "      <td>6.50</td>\n",
       "      <td>1.22</td>\n",
       "      <td>0.600000</td>\n",
       "      <td>0.642857</td>\n",
       "      <td>Sat</td>\n",
       "    </tr>\n",
       "    <tr>\n",
       "      <th>4</th>\n",
       "      <td>5</td>\n",
       "      <td>h</td>\n",
       "      <td>1.340990</td>\n",
       "      <td>1.598640</td>\n",
       "      <td>1.340990</td>\n",
       "      <td>1.598640</td>\n",
       "      <td>4</td>\n",
       "      <td>6</td>\n",
       "      <td>1</td>\n",
       "      <td>1</td>\n",
       "      <td>...</td>\n",
       "      <td>19</td>\n",
       "      <td>4</td>\n",
       "      <td>1</td>\n",
       "      <td>0</td>\n",
       "      <td>1.95</td>\n",
       "      <td>3.60</td>\n",
       "      <td>3.60</td>\n",
       "      <td>0.230769</td>\n",
       "      <td>0.375000</td>\n",
       "      <td>Sat</td>\n",
       "    </tr>\n",
       "    <tr>\n",
       "      <th>...</th>\n",
       "      <td>...</td>\n",
       "      <td>...</td>\n",
       "      <td>...</td>\n",
       "      <td>...</td>\n",
       "      <td>...</td>\n",
       "      <td>...</td>\n",
       "      <td>...</td>\n",
       "      <td>...</td>\n",
       "      <td>...</td>\n",
       "      <td>...</td>\n",
       "      <td>...</td>\n",
       "      <td>...</td>\n",
       "      <td>...</td>\n",
       "      <td>...</td>\n",
       "      <td>...</td>\n",
       "      <td>...</td>\n",
       "      <td>...</td>\n",
       "      <td>...</td>\n",
       "      <td>...</td>\n",
       "      <td>...</td>\n",
       "      <td>...</td>\n",
       "    </tr>\n",
       "    <tr>\n",
       "      <th>571</th>\n",
       "      <td>572</td>\n",
       "      <td>a</td>\n",
       "      <td>0.445922</td>\n",
       "      <td>2.028830</td>\n",
       "      <td>0.445922</td>\n",
       "      <td>2.028830</td>\n",
       "      <td>3</td>\n",
       "      <td>9</td>\n",
       "      <td>0</td>\n",
       "      <td>4</td>\n",
       "      <td>...</td>\n",
       "      <td>10</td>\n",
       "      <td>1</td>\n",
       "      <td>2</td>\n",
       "      <td>0</td>\n",
       "      <td>1.80</td>\n",
       "      <td>3.90</td>\n",
       "      <td>4.20</td>\n",
       "      <td>0.647059</td>\n",
       "      <td>0.333333</td>\n",
       "      <td>Sun</td>\n",
       "    </tr>\n",
       "    <tr>\n",
       "      <th>572</th>\n",
       "      <td>573</td>\n",
       "      <td>a</td>\n",
       "      <td>0.585469</td>\n",
       "      <td>1.738900</td>\n",
       "      <td>0.585469</td>\n",
       "      <td>1.738900</td>\n",
       "      <td>2</td>\n",
       "      <td>3</td>\n",
       "      <td>0</td>\n",
       "      <td>2</td>\n",
       "      <td>...</td>\n",
       "      <td>9</td>\n",
       "      <td>11</td>\n",
       "      <td>4</td>\n",
       "      <td>0</td>\n",
       "      <td>5.00</td>\n",
       "      <td>4.33</td>\n",
       "      <td>1.60</td>\n",
       "      <td>0.500000</td>\n",
       "      <td>0.285714</td>\n",
       "      <td>Sun</td>\n",
       "    </tr>\n",
       "    <tr>\n",
       "      <th>573</th>\n",
       "      <td>574</td>\n",
       "      <td>h</td>\n",
       "      <td>1.738900</td>\n",
       "      <td>0.585469</td>\n",
       "      <td>1.738900</td>\n",
       "      <td>0.585469</td>\n",
       "      <td>3</td>\n",
       "      <td>2</td>\n",
       "      <td>2</td>\n",
       "      <td>0</td>\n",
       "      <td>...</td>\n",
       "      <td>9</td>\n",
       "      <td>11</td>\n",
       "      <td>4</td>\n",
       "      <td>0</td>\n",
       "      <td>5.00</td>\n",
       "      <td>4.33</td>\n",
       "      <td>1.60</td>\n",
       "      <td>0.500000</td>\n",
       "      <td>0.285714</td>\n",
       "      <td>Sun</td>\n",
       "    </tr>\n",
       "    <tr>\n",
       "      <th>574</th>\n",
       "      <td>575</td>\n",
       "      <td>a</td>\n",
       "      <td>0.672448</td>\n",
       "      <td>2.412390</td>\n",
       "      <td>0.672448</td>\n",
       "      <td>1.651220</td>\n",
       "      <td>2</td>\n",
       "      <td>8</td>\n",
       "      <td>0</td>\n",
       "      <td>4</td>\n",
       "      <td>...</td>\n",
       "      <td>12</td>\n",
       "      <td>0</td>\n",
       "      <td>1</td>\n",
       "      <td>0</td>\n",
       "      <td>1.36</td>\n",
       "      <td>5.25</td>\n",
       "      <td>8.00</td>\n",
       "      <td>0.466667</td>\n",
       "      <td>0.250000</td>\n",
       "      <td>Mon</td>\n",
       "    </tr>\n",
       "    <tr>\n",
       "      <th>575</th>\n",
       "      <td>576</td>\n",
       "      <td>h</td>\n",
       "      <td>2.412390</td>\n",
       "      <td>0.672448</td>\n",
       "      <td>1.651220</td>\n",
       "      <td>0.672448</td>\n",
       "      <td>8</td>\n",
       "      <td>2</td>\n",
       "      <td>4</td>\n",
       "      <td>0</td>\n",
       "      <td>...</td>\n",
       "      <td>12</td>\n",
       "      <td>0</td>\n",
       "      <td>1</td>\n",
       "      <td>0</td>\n",
       "      <td>1.36</td>\n",
       "      <td>5.25</td>\n",
       "      <td>8.00</td>\n",
       "      <td>0.466667</td>\n",
       "      <td>0.250000</td>\n",
       "      <td>Mon</td>\n",
       "    </tr>\n",
       "  </tbody>\n",
       "</table>\n",
       "<p>576 rows × 45 columns</p>\n",
       "</div>"
      ],
      "text/plain": [
       "     Unnamed: 0 h_a        xG       xGA      npxG     npxGA  deep  \\\n",
       "0             1   h  2.234560  0.842407  2.234560  0.842407    11   \n",
       "1             2   a  0.842407  2.234560  0.842407  2.234560     5   \n",
       "2             3   a  3.183770  1.200300  2.422640  1.200300     9   \n",
       "3             4   h  1.200300  3.183770  1.200300  2.422640     1   \n",
       "4             5   h  1.340990  1.598640  1.340990  1.598640     4   \n",
       "..          ...  ..       ...       ...       ...       ...   ...   \n",
       "571         572   a  0.445922  2.028830  0.445922  2.028830     3   \n",
       "572         573   a  0.585469  1.738900  0.585469  1.738900     2   \n",
       "573         574   h  1.738900  0.585469  1.738900  0.585469     3   \n",
       "574         575   a  0.672448  2.412390  0.672448  1.651220     2   \n",
       "575         576   h  2.412390  0.672448  1.651220  0.672448     8   \n",
       "\n",
       "     deep_allowed  scored  missed  ...  AF.x AC.x AY.x  AR.x  B365H.x  \\\n",
       "0               5       4       1  ...     9    2    2     0     1.14   \n",
       "1              11       1       4  ...     9    2    2     0     1.14   \n",
       "2               1       5       0  ...    13    1    2     0    12.00   \n",
       "3               9       0       5  ...    13    1    2     0    12.00   \n",
       "4               6       1       1  ...    19    4    1     0     1.95   \n",
       "..            ...     ...     ...  ...   ...  ...  ...   ...      ...   \n",
       "571             9       0       4  ...    10    1    2     0     1.80   \n",
       "572             3       0       2  ...     9   11    4     0     5.00   \n",
       "573             2       2       0  ...     9   11    4     0     5.00   \n",
       "574             8       0       4  ...    12    0    1     0     1.36   \n",
       "575             2       4       0  ...    12    0    1     0     1.36   \n",
       "\n",
       "     B365D.x  B365A.x  HtrgPerc  AtrgPerc  matchDay  \n",
       "0      10.00    19.00  0.466667  0.416667       Fri  \n",
       "1      10.00    19.00  0.466667  0.416667       Fri  \n",
       "2       6.50     1.22  0.600000  0.642857       Sat  \n",
       "3       6.50     1.22  0.600000  0.642857       Sat  \n",
       "4       3.60     3.60  0.230769  0.375000       Sat  \n",
       "..       ...      ...       ...       ...       ...  \n",
       "571     3.90     4.20  0.647059  0.333333       Sun  \n",
       "572     4.33     1.60  0.500000  0.285714       Sun  \n",
       "573     4.33     1.60  0.500000  0.285714       Sun  \n",
       "574     5.25     8.00  0.466667  0.250000       Mon  \n",
       "575     5.25     8.00  0.466667  0.250000       Mon  \n",
       "\n",
       "[576 rows x 45 columns]"
      ]
     },
     "execution_count": 38,
     "metadata": {},
     "output_type": "execute_result"
    }
   ],
   "source": [
    "df=pd.read_csv(\"vazifa12.csv\")\n",
    "df"
   ]
  },
  {
   "cell_type": "code",
   "execution_count": 39,
   "metadata": {},
   "outputs": [
    {
     "data": {
      "text/plain": [
       "<Axes: xlabel='xG', ylabel='Count'>"
      ]
     },
     "execution_count": 39,
     "metadata": {},
     "output_type": "execute_result"
    },
    {
     "data": {
      "image/png": "[encoded data removed]",
      "text/plain": [
       "<Figure size 640x480 with 1 Axes>"
      ]
     },
     "metadata": {},
     "output_type": "display_data"
    }
   ],
   "source": [
    "sns.histplot(df[\"xG\"])"
   ]
  },
  {
   "cell_type": "code",
   "execution_count": 40,
   "metadata": {},
   "outputs": [
    {
     "data": {
      "text/plain": [
       "<Axes: xlabel='deep', ylabel='Count'>"
      ]
     },
     "execution_count": 40,
     "metadata": {},
     "output_type": "execute_result"
    },
    {
     "data": {
      "image/png": "[encoded data removed]",
      "text/plain": [
       "<Figure size 640x480 with 1 Axes>"
      ]
     },
     "metadata": {},
     "output_type": "display_data"
    }
   ],
   "source": [
    "sns.histplot(df[\"deep\"])"
   ]
  },
  {
   "cell_type": "code",
   "execution_count": 41,
   "metadata": {},
   "outputs": [
    {
     "data": {
      "text/plain": [
       "<Axes: xlabel='B365A.x', ylabel='Count'>"
      ]
     },
     "execution_count": 41,
     "metadata": {},
     "output_type": "execute_result"
    },
    {
     "data": {
      "image/png": "[encoded data removed]",
      "text/plain": [
       "<Figure size 640x480 with 1 Axes>"
      ]
     },
     "metadata": {},
     "output_type": "display_data"
    }
   ],
   "source": [
    "sns.histplot(df[\"B365A.x\"])"
   ]
  },
  {
   "cell_type": "code",
   "execution_count": 42,
   "metadata": {},
   "outputs": [
    {
     "data": {
      "text/plain": [
       "<Axes: xlabel='HtrgPerc', ylabel='Count'>"
      ]
     },
     "execution_count": 42,
     "metadata": {},
     "output_type": "execute_result"
    },
    {
     "data": {
      "image/png": "[encoded data removed]",
      "text/plain": [
       "<Figure size 640x480 with 1 Axes>"
      ]
     },
     "metadata": {},
     "output_type": "display_data"
    }
   ],
   "source": [
    "sns.histplot(df[\"HtrgPerc\"])"
   ]
  },
  {
   "cell_type": "code",
   "execution_count": 43,
   "metadata": {},
   "outputs": [
    {
     "data": {
      "text/plain": [
       "(array([ 20.,  56., 162., 132., 106.,  74.,  14.,   4.,   4.,   4.]),\n",
       " array([0. , 0.1, 0.2, 0.3, 0.4, 0.5, 0.6, 0.7, 0.8, 0.9, 1. ]),\n",
       " <BarContainer object of 10 artists>)"
      ]
     },
     "execution_count": 43,
     "metadata": {},
     "output_type": "execute_result"
    },
    {
     "data": {
      "image/png": "[encoded data removed]",
      "text/plain": [
       "<Figure size 640x480 with 4 Axes>"
      ]
     },
     "metadata": {},
     "output_type": "display_data"
    }
   ],
   "source": [
    "fig, ax =plt.subplots(2, 2)\n",
    "ax[0,0].hist(df[\"xG\"])\n",
    "ax[0,1].hist(df[\"deep\"])\n",
    "ax[1,0].hist(df[\"B365A.x\"])\n",
    "ax[1,1].hist(df[\"HtrgPerc\"])"
   ]
  },
  {
   "cell_type": "markdown",
   "metadata": {},
   "source": [
    "##  Orginal holat    ^"
   ]
  },
  {
   "cell_type": "markdown",
   "metadata": {},
   "source": [
    "X=df[\"sepal_width\"]\n",
    "Z_scorse=(X-X.mean())/X.std()"
   ]
  },
  {
   "cell_type": "code",
   "execution_count": 44,
   "metadata": {},
   "outputs": [],
   "source": [
    "A1=df[\"xG\"]\n",
    "X1=(A1-A1.mean())/A1.std()"
   ]
  },
  {
   "cell_type": "code",
   "execution_count": 45,
   "metadata": {},
   "outputs": [],
   "source": [
    "A2=df[\"deep\"]\n",
    "X2=(A2-A2.mean())/A2.std()"
   ]
  },
  {
   "cell_type": "code",
   "execution_count": 46,
   "metadata": {},
   "outputs": [],
   "source": [
    "A3=df[\"B365A.x\"]\n",
    "X3=(A3-A3.mean())/A3.std()"
   ]
  },
  {
   "cell_type": "code",
   "execution_count": 47,
   "metadata": {},
   "outputs": [],
   "source": [
    "A4=df[\"HtrgPerc\"]\n",
    "X4=(A4-A4.mean())/A4.std()"
   ]
  },
  {
   "cell_type": "code",
   "execution_count": 48,
   "metadata": {},
   "outputs": [
    {
     "data": {
      "text/plain": [
       "(array([ 20.,  56., 146., 148., 106.,  72.,  14.,   6.,   4.,   4.]),\n",
       " array([-2.24335683, -1.59954226, -0.95572769, -0.31191311,  0.33190146,\n",
       "         0.97571603,  1.61953061,  2.26334518,  2.90715975,  3.55097432,\n",
       "         4.1947889 ]),\n",
       " <BarContainer object of 10 artists>)"
      ]
     },
     "execution_count": 48,
     "metadata": {},
     "output_type": "execute_result"
    },
    {
     "data": {
      "image/png": "[encoded data removed]",
      "text/plain": [
       "<Figure size 640x480 with 4 Axes>"
      ]
     },
     "metadata": {},
     "output_type": "display_data"
    }
   ],
   "source": [
    "fig, ax =plt.subplots(2, 2)\n",
    "ax[0,0].hist(X1)\n",
    "ax[0,1].hist(X2)\n",
    "ax[1,0].hist(X3)\n",
    "ax[1,1].hist(X4)"
   ]
  },
  {
   "cell_type": "markdown",
   "metadata": {},
   "source": [
    "## X_score=(A-mean(A))/Std(A)     ^"
   ]
  },
  {
   "cell_type": "code",
   "execution_count": 49,
   "metadata": {},
   "outputs": [],
   "source": [
    "B1=df[\"xG\"]\n",
    "Y1=(B1-B1.min())/(B1.max()-B1.min())"
   ]
  },
  {
   "cell_type": "code",
   "execution_count": 50,
   "metadata": {},
   "outputs": [],
   "source": [
    "B2=df[\"deep\"]\n",
    "Y2=(B2-B2.min())/(B2.max()-B2.min())"
   ]
  },
  {
   "cell_type": "code",
   "execution_count": 51,
   "metadata": {},
   "outputs": [],
   "source": [
    "B3=df[\"B365A.x\"]\n",
    "Y3=(B3-B3.min())/(B3.max()-B3.min())"
   ]
  },
  {
   "cell_type": "code",
   "execution_count": 52,
   "metadata": {},
   "outputs": [],
   "source": [
    "B4=df[\"HtrgPerc\"]\n",
    "Y4=(B4-B4.min())/(B4.max()-B4.min())"
   ]
  },
  {
   "cell_type": "code",
   "execution_count": 53,
   "metadata": {},
   "outputs": [
    {
     "data": {
      "text/plain": [
       "(array([ 20.,  56., 162., 132., 106.,  74.,  14.,   4.,   4.,   4.]),\n",
       " array([0. , 0.1, 0.2, 0.3, 0.4, 0.5, 0.6, 0.7, 0.8, 0.9, 1. ]),\n",
       " <BarContainer object of 10 artists>)"
      ]
     },
     "execution_count": 53,
     "metadata": {},
     "output_type": "execute_result"
    },
    {
     "data": {
      "image/png": "[encoded data removed]",
      "text/plain": [
       "<Figure size 640x480 with 4 Axes>"
      ]
     },
     "metadata": {},
     "output_type": "display_data"
    }
   ],
   "source": [
    "fig, ax =plt.subplots(2, 2)\n",
    "ax[0,0].hist(Y1)\n",
    "ax[0,1].hist(Y2)\n",
    "ax[1,0].hist(Y3)\n",
    "ax[1,1].hist(Y4)"
   ]
  },
  {
   "cell_type": "markdown",
   "metadata": {},
   "source": [
    "## Y_Scaled=(B-min(B))/(max(B)-min(B))             ^"
   ]
  },
  {
   "cell_type": "code",
   "execution_count": 54,
   "metadata": {},
   "outputs": [],
   "source": [
    "C1=df[\"xG\"]\n",
    "Z1=(C1-C1.mean())/(C1.max()-C1.min())"
   ]
  },
  {
   "cell_type": "code",
   "execution_count": 55,
   "metadata": {},
   "outputs": [],
   "source": [
    "C2=df[\"deep\"]\n",
    "Z2=(C2-C2.mean())/(C2.max()-C2.min())"
   ]
  },
  {
   "cell_type": "code",
   "execution_count": 56,
   "metadata": {},
   "outputs": [],
   "source": [
    "C3=df[\"B365A.x\"]\n",
    "Z3=(C3-C3.mean())/(C3.max()-C3.min())"
   ]
  },
  {
   "cell_type": "code",
   "execution_count": 57,
   "metadata": {},
   "outputs": [],
   "source": [
    "C4=df[\"HtrgPerc\"]\n",
    "Z4=(C4-C4.mean())/(C4.max()-C4.min())"
   ]
  },
  {
   "cell_type": "code",
   "execution_count": 58,
   "metadata": {},
   "outputs": [
    {
     "data": {
      "text/plain": [
       "(array([ 20.,  56., 162., 132., 106.,  74.,  14.,   4.,   4.,   4.]),\n",
       " array([-0.34844766, -0.24844766, -0.14844766, -0.04844766,  0.05155234,\n",
       "         0.15155234,  0.25155234,  0.35155234,  0.45155234,  0.55155234,\n",
       "         0.65155234]),\n",
       " <BarContainer object of 10 artists>)"
      ]
     },
     "execution_count": 58,
     "metadata": {},
     "output_type": "execute_result"
    },
    {
     "data": {
      "image/png": "[encoded data removed]",
      "text/plain": [
       "<Figure size 640x480 with 4 Axes>"
      ]
     },
     "metadata": {},
     "output_type": "display_data"
    }
   ],
   "source": [
    "fig, ax =plt.subplots(2, 2)\n",
    "ax[0,0].hist(Z1)\n",
    "ax[0,1].hist(Z2)\n",
    "ax[1,0].hist(Z3)\n",
    "ax[1,1].hist(Z4)"
   ]
  },
  {
   "cell_type": "markdown",
   "metadata": {},
   "source": [
    "   ## Z_scaled=(C-mean(C))/(max(C)-min(c))    ^"
   ]
  },
  {
   "cell_type": "code",
   "execution_count": 59,
   "metadata": {},
   "outputs": [],
   "source": [
    "D1=df[\"xG\"]\n",
    "V1=D1/abs(D1.max())"
   ]
  },
  {
   "cell_type": "code",
   "execution_count": 60,
   "metadata": {},
   "outputs": [],
   "source": [
    "D2=df[\"deep\"]\n",
    "V2=D2/abs(D2.max())"
   ]
  },
  {
   "cell_type": "code",
   "execution_count": 61,
   "metadata": {},
   "outputs": [],
   "source": [
    "D3=df[\"B365A.x\"]\n",
    "V3=D3/abs(D3.max())"
   ]
  },
  {
   "cell_type": "code",
   "execution_count": 62,
   "metadata": {},
   "outputs": [],
   "source": [
    "D4=df[\"HtrgPerc\"]\n",
    "V4=D4/abs(D4.max())"
   ]
  },
  {
   "cell_type": "code",
   "execution_count": 63,
   "metadata": {},
   "outputs": [
    {
     "data": {
      "text/plain": [
       "(array([ 20.,  56., 162., 132., 106.,  74.,  14.,   4.,   4.,   4.]),\n",
       " array([0. , 0.1, 0.2, 0.3, 0.4, 0.5, 0.6, 0.7, 0.8, 0.9, 1. ]),\n",
       " <BarContainer object of 10 artists>)"
      ]
     },
     "execution_count": 63,
     "metadata": {},
     "output_type": "execute_result"
    },
    {
     "data": {
      "image/png": "[encoded data removed]",
      "text/plain": [
       "<Figure size 640x480 with 4 Axes>"
      ]
     },
     "metadata": {},
     "output_type": "display_data"
    }
   ],
   "source": [
    "fig, ax =plt.subplots(2, 2)\n",
    "ax[0,0].hist(V1)\n",
    "ax[0,1].hist(V2)\n",
    "ax[1,0].hist(V3)\n",
    "ax[1,1].hist(V4)"
   ]
  },
  {
   "cell_type": "markdown",
   "metadata": {},
   "source": [
    "## V=_scaled=D/max(abs(D))      ^"
   ]
  },
  {
   "cell_type": "code",
   "execution_count": 64,
   "metadata": {},
   "outputs": [
    {
     "data": {
      "text/plain": [
       "count    576.000000\n",
       "mean       1.460088\n",
       "std        0.873678\n",
       "min        0.054134\n",
       "25%        0.840033\n",
       "50%        1.275360\n",
       "75%        1.973553\n",
       "max        6.630490\n",
       "Name: xG, dtype: float64"
      ]
     },
     "execution_count": 64,
     "metadata": {},
     "output_type": "execute_result"
    }
   ],
   "source": [
    "df[\"xG\"].describe()"
   ]
  },
  {
   "cell_type": "code",
   "execution_count": 65,
   "metadata": {},
   "outputs": [
    {
     "name": "stderr",
     "output_type": "stream",
     "text": [
      "C:\\Users\\Nurbek\\AppData\\Local\\Temp\\ipykernel_14636\\4281163502.py:1: FutureWarning: Series.__getitem__ treating keys as positions is deprecated. In a future version, integer keys will always be treated as labels (consistent with DataFrame behavior). To access a value by position, use `ser.iloc[pos]`\n",
      "  m25=df[\"xG\"].describe()[4]\n"
     ]
    },
    {
     "data": {
      "text/plain": [
       "0.8400335"
      ]
     },
     "execution_count": 65,
     "metadata": {},
     "output_type": "execute_result"
    }
   ],
   "source": [
    "m25=df[\"xG\"].describe()[4]\n",
    "m25"
   ]
  },
  {
   "cell_type": "code",
   "execution_count": 66,
   "metadata": {},
   "outputs": [
    {
     "name": "stderr",
     "output_type": "stream",
     "text": [
      "C:\\Users\\Nurbek\\AppData\\Local\\Temp\\ipykernel_14636\\3194730977.py:2: FutureWarning: Series.__getitem__ treating keys as positions is deprecated. In a future version, integer keys will always be treated as labels (consistent with DataFrame behavior). To access a value by position, use `ser.iloc[pos]`\n",
      "  m1=df[\"xG\"].describe()[4]\n",
      "C:\\Users\\Nurbek\\AppData\\Local\\Temp\\ipykernel_14636\\3194730977.py:3: FutureWarning: Series.__getitem__ treating keys as positions is deprecated. In a future version, integer keys will always be treated as labels (consistent with DataFrame behavior). To access a value by position, use `ser.iloc[pos]`\n",
      "  M1=df[\"xG\"].describe()[6]\n"
     ]
    }
   ],
   "source": [
    "E1=df[\"xG\"]\n",
    "m1=df[\"xG\"].describe()[4]\n",
    "M1=df[\"xG\"].describe()[6]\n",
    "N1=(E1-E1.median())/(M1-m1)"
   ]
  },
  {
   "cell_type": "code",
   "execution_count": 67,
   "metadata": {},
   "outputs": [
    {
     "name": "stderr",
     "output_type": "stream",
     "text": [
      "C:\\Users\\Nurbek\\AppData\\Local\\Temp\\ipykernel_14636\\1490112469.py:2: FutureWarning: Series.__getitem__ treating keys as positions is deprecated. In a future version, integer keys will always be treated as labels (consistent with DataFrame behavior). To access a value by position, use `ser.iloc[pos]`\n",
      "  m2=df[\"deep\"].describe()[4]\n",
      "C:\\Users\\Nurbek\\AppData\\Local\\Temp\\ipykernel_14636\\1490112469.py:3: FutureWarning: Series.__getitem__ treating keys as positions is deprecated. In a future version, integer keys will always be treated as labels (consistent with DataFrame behavior). To access a value by position, use `ser.iloc[pos]`\n",
      "  M2=df[\"deep\"].describe()[6]\n"
     ]
    }
   ],
   "source": [
    "E2=df[\"deep\"]\n",
    "m2=df[\"deep\"].describe()[4]\n",
    "M2=df[\"deep\"].describe()[6]\n",
    "N2=(E2-E2.median())/(M2-m2)"
   ]
  },
  {
   "cell_type": "code",
   "execution_count": 68,
   "metadata": {},
   "outputs": [
    {
     "name": "stderr",
     "output_type": "stream",
     "text": [
      "C:\\Users\\Nurbek\\AppData\\Local\\Temp\\ipykernel_14636\\2794126351.py:2: FutureWarning: Series.__getitem__ treating keys as positions is deprecated. In a future version, integer keys will always be treated as labels (consistent with DataFrame behavior). To access a value by position, use `ser.iloc[pos]`\n",
      "  m3=df[\"B365A.x\"].describe()[4]\n",
      "C:\\Users\\Nurbek\\AppData\\Local\\Temp\\ipykernel_14636\\2794126351.py:3: FutureWarning: Series.__getitem__ treating keys as positions is deprecated. In a future version, integer keys will always be treated as labels (consistent with DataFrame behavior). To access a value by position, use `ser.iloc[pos]`\n",
      "  M3=df[\"B365A.x\"].describe()[6]\n"
     ]
    }
   ],
   "source": [
    "E3=df[\"B365A.x\"]\n",
    "m3=df[\"B365A.x\"].describe()[4]\n",
    "M3=df[\"B365A.x\"].describe()[6]\n",
    "N3=(E3-E3.median())/(M3-m3)"
   ]
  },
  {
   "cell_type": "code",
   "execution_count": 69,
   "metadata": {},
   "outputs": [
    {
     "name": "stderr",
     "output_type": "stream",
     "text": [
      "C:\\Users\\Nurbek\\AppData\\Local\\Temp\\ipykernel_14636\\599718405.py:2: FutureWarning: Series.__getitem__ treating keys as positions is deprecated. In a future version, integer keys will always be treated as labels (consistent with DataFrame behavior). To access a value by position, use `ser.iloc[pos]`\n",
      "  m4=df[\"HtrgPerc\"].describe()[4]\n",
      "C:\\Users\\Nurbek\\AppData\\Local\\Temp\\ipykernel_14636\\599718405.py:3: FutureWarning: Series.__getitem__ treating keys as positions is deprecated. In a future version, integer keys will always be treated as labels (consistent with DataFrame behavior). To access a value by position, use `ser.iloc[pos]`\n",
      "  M4=df[\"HtrgPerc\"].describe()[6]\n"
     ]
    }
   ],
   "source": [
    "E4=df[\"HtrgPerc\"]\n",
    "m4=df[\"HtrgPerc\"].describe()[4]\n",
    "M4=df[\"HtrgPerc\"].describe()[6]\n",
    "N4=(E4-E4.median())/(M4-m4)"
   ]
  },
  {
   "cell_type": "code",
   "execution_count": 70,
   "metadata": {},
   "outputs": [
    {
     "data": {
      "text/plain": [
       "(array([ 20.,  56., 162., 132., 106.,  74.,  14.,   4.,   4.,   4.]),\n",
       " array([-1.69252468, -1.18476728, -0.67700987, -0.16925247,  0.33850494,\n",
       "         0.84626234,  1.35401975,  1.86177715,  2.36953456,  2.87729196,\n",
       "         3.38504937]),\n",
       " <BarContainer object of 10 artists>)"
      ]
     },
     "execution_count": 70,
     "metadata": {},
     "output_type": "execute_result"
    },
    {
     "data": {
      "image/png": "[encoded data removed]",
      "text/plain": [
       "<Figure size 640x480 with 4 Axes>"
      ]
     },
     "metadata": {},
     "output_type": "display_data"
    }
   ],
   "source": [
    "fig, ax =plt.subplots(2, 2)\n",
    "ax[0,0].hist(N1)\n",
    "ax[0,1].hist(N2)\n",
    "ax[1,0].hist(N3)\n",
    "ax[1,1].hist(N4)"
   ]
  },
  {
   "cell_type": "markdown",
   "metadata": {},
   "source": [
    "##   N_scaled = (E-median(E))/(75thquant(E)-25thquant(E))  ^"
   ]
  },
  {
   "cell_type": "markdown",
   "metadata": {},
   "source": [
    "## Biz manashu 5 xil misolda shunga amin bo'ldikki bu yerda faqat masshtabi o'zgaryabdi xolos. Grafiklarning barchasi asl xolatda qolmoqda."
   ]
  }
 ],
 "metadata": {
  "kernelspec": {
   "display_name": "Python 3",
   "language": "python",
   "name": "python3"
  },
  "language_info": {
   "codemirror_mode": {
    "name": "ipython",
    "version": 3
   },
   "file_extension": ".py",
   "mimetype": "text/x-python",
   "name": "python",
   "nbconvert_exporter": "python",
   "pygments_lexer": "ipython3",
   "version": "3.12.1"
  }
 },
 "nbformat": 4,
 "nbformat_minor": 2
}
